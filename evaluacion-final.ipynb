{
 "cells": [
  {
   "cell_type": "markdown",
   "metadata": {},
   "source": [
    "# Evaluación Final Módulo 1 Data Analytics\n",
    "\n",
    "## Instrucciones:\n",
    "\n",
    "- Antes de empezar, hay que crear un nuevo repositorio desde GitHub Classroom usando este [enlace](https://classroom.github.com/a/irgzJ0KJ). Una vez creado, hay que clonar en nuestro ordenador y en la carpeta creada empezaremos a trabajar en el ejercicio.\n",
    "\n",
    "- Esta evaluación consta de una serie de preguntas que evalúan tu comprensión y habilidades en relación con funciones, clases y regex.\n",
    "\n",
    "- Puedes usar recursos externos, incluyendo internet y materiales de referencia o tus propias notas.\n",
    "\n",
    "- Completa los ejercicios en un jupyter notebook."
   ]
  },
  {
   "cell_type": "markdown",
   "metadata": {},
   "source": [
    "## Ejercicio\n",
    "\n",
    "A lo largo de esta evaluación tendrás que crear una clase llamada `TiendaOnline` que cumpla los siguientes requisitos:\n",
    "\n",
    " - La clase `TiendaOnline` debe tener los siguientes atributos:\n",
    "\n",
    "    1. `inventario` (lista de diccionarios): Un atributo para almacenar los productos en el inventario. Cada producto debe ser representado como un diccionario con las siguientes claves: `'nombre'`, `'precio'`, y `'cantidad'`. Al principio deberá ser una lista vacía. Ejemplo de como debería ser:\n",
    "\n",
    "        ```python\n",
    "            [{'nombre': 'Camisa', 'precio': 20, 'cantidad': 40},\n",
    "            {'nombre': 'Pantalón', 'precio': 30, 'cantidad': 30}]\n",
    "        ```\n",
    "\n",
    "    1. `ventas_totales` (float): Un atributo para llevar un registro de las ventas totales de la tienda. Inicializado con valor 0. \n",
    "\n",
    "\n",
    "  \n",
    "La clase `TiendaOnline` debe tener los siguientes métodos:\n",
    "\n",
    "1. `agregar_producto(self, nombre, precio, cantidad)`: Este método agrega un producto al inventario o actualiza su cantidad si ya existe. Debe recibir el nombre, precio y cantidad del producto como parámetros. \n",
    "\n",
    "    - Itera a través del inventario y compara los nombres de los productos con el nombre proporcionado.\n",
    "    - Si el producto ya existe, actualiza la cantidad.\n",
    "    - Si no existe, agrega un nuevo producto al inventario.\n",
    "\n",
    "2. `ver_inventario(self)`: Muestra el inventario de productos con sus detalles.\n",
    "\n",
    "   - Utiliza un bucle `for` para recorrer el inventario.\n",
    "   - Imprime los detalles (nombre, precio, cantidad) de cada producto.\n",
    "   - Debería verse:\n",
    "         \n",
    "        ```python\n",
    "            Nombre: Camisa, Precio: $20, Cantidad: 50\n",
    "            Nombre: Pantalón, Precio: $30, Cantidad: 30\n",
    "            Nombre: Zapatos, Precio: $50, Cantidad: 40\n",
    "            Nombre: Camisa, Precio: $20, Cantidad: 50\n",
    "        ```\n",
    "\n",
    "3. `buscar_producto(self, nombre)`: Busca un producto en el inventario por nombre y muestra sus detalles si se encuentra. Debe recibir el nombre del producto como parámetro.\n",
    "\n",
    "    - Utiliza un bucle `for` para recorrer el inventario.\n",
    "    - Compara los nombres de los productos con el nombre proporcionado.\n",
    "    - Si se encuentra el producto, imprime sus detalles.\n",
    "    - Debe mostrar:\n",
    "\n",
    "        ```python\n",
    "        Nombre: Camisa, Precio: $20, Cantidad: 40\n",
    "        ```\n",
    "\n",
    "1. `actualizar_stock(self, nombre, cantidad)`: Actualiza el stock de un producto en el inventario. Debe recibir el nombre del producto y la cantidad a agregar o quitar como parámetros.\n",
    "\n",
    "    - Utiliza un bucle `for` para recorrer el inventario.\n",
    "    - Busca el producto por nombre.\n",
    "    - Actualiza la cantidad según la entrada del usuario.\n",
    "    - Si el producto no esta en el inventario muestra un mensaje indicándolo. \n",
    "\n",
    "1. `eliminar_producto(self, nombre)`: Elimina un producto del inventario por nombre. Debe recibir el nombre del producto como parámetro.\n",
    "\n",
    "    - Utiliza un bucle `for` para recorrer el inventario.\n",
    "    - Busca el producto por nombre.\n",
    "    - Elimina el producto del inventario si existe.\n",
    "    - Si el producto no esta en el inventario muestra un mensaje indicándolo. \n",
    "\n",
    "1. `calcular_valor_inventario(self)`: Calcula y muestra el valor total del inventario.\n",
    "\n",
    "    - Utiliza un bucle for para calcular el valor total del inventario.\n",
    "    - Itera a través del inventario y suma el valor de cada producto (precio x cantidad). Es decir, calcula el valor total del inventario. Ejemplo:\n",
    "\n",
    "    ```python\n",
    "    # si tenemos 5 camisas que valen 5 euros \n",
    "    # y 10 calcetines que valen 1 euro\n",
    "    # este método te tiene que devolver: 35 euros\n",
    "\n",
    "    valor_camisas = 5 * 5\n",
    "    valor_calcetines = 10 * 1\n",
    "\n",
    "    valor_camisas + valor_calcetines = 35\n",
    "    ```\n",
    "\n",
    "**Instrucciones Adicionales:**\n",
    "\n",
    "- Debes crear instancias de la clase `TiendaOnline` y probar cada uno de los métodos para demostrar que funcionan correctamente.\n",
    "- Para las entrevistas técnicas, asegúrate de tener preparado un código que permita añadir una cantidad significativa de productos al inventario. Esto facilitará comprobar los métodos para visualizar el inventario, buscar productos, y otras funcionalidades están funcionando correctamente.\""
   ]
  },
  {
   "cell_type": "code",
   "execution_count": 447,
   "metadata": {},
   "outputs": [],
   "source": [
    "class OnlineShop:\n",
    "\n",
    "    def __init__(self): #no hay parámetros en el init porque son parámetros por defecto\n",
    "        self.stock = [] \n",
    "        self.total_sales = 0.0\n",
    "\n",
    "    \n",
    "    def add_product(self, name, price, quantity):\n",
    "        \n",
    "        \"\"\"Add a new product to the stock. If it already exists, sum the quantity.\n",
    "        Params: name, price, quantity of the product.\"\"\"\n",
    "\n",
    "        #PART 1: comprobamos si el producto está ya en el stock:\n",
    "        \n",
    "        for element in self.stock: \n",
    "            if element['name'] == name.title(): \n",
    "                element['quantity'] += quantity\n",
    "                print(f'Actualizamos la cantidad de \"{name.title()}\" a \"{element[\"quantity\"]}\".')\n",
    "                return \n",
    "\n",
    "        \"\"\" Using return to exit the function and avoid executing part 2 of the code. \n",
    "        Break is not working because even if it exits the loop, the Part 2 of the code \n",
    "        (the one that adds the product to the stock) would start executing.\"\"\"         \n",
    "\n",
    "        #PART 2: appendeamos a la lista el producto.\n",
    "                       \n",
    "        product = {'name': name.title(), 'price': price, 'quantity': quantity}\n",
    "        self.stock.append(product)\n",
    "        print(f'Se agregó \"{product[\"name\"]}\" al inventario')\n",
    "\n",
    "\n",
    "    def see_stock(self):\n",
    "\n",
    "        \"\"\"Displays the inventory of products with their details\"\"\"\n",
    "\n",
    "        for element in self.stock:\n",
    "            print(f\"Nombre: {(element['name'])}, Precio: ${(element['price'])}, Cantidad: {(element['quantity'])}\")\n",
    "    \n",
    "\n",
    "    def search_product(self, name):\n",
    "        \"\"\"Searches for a product in the stock by name and displays its details, if found. \n",
    "        Parameter: name of the product.\"\"\"\n",
    "\n",
    "        for element in self.stock:\n",
    "            if element['name'] == name.title():\n",
    "                print(f\"Nombre: {(element['name'])}, Precio: ${(element['price'])}, Cantidad: {(element['quantity'])}\")\n",
    "                \n",
    "                return #misma lógica de antes, uso return para salirme de la función\n",
    "\n",
    "        print(f'El producto \"{name}\" no está en el inventario') \n",
    "\n",
    "\n",
    "    def update_stock(self, name, quantity):\n",
    "        \"\"\"Updates the stock of a product (key quantity). \n",
    "        Parameters: (1) product name and (2) new quantity.\"\"\"\n",
    "\n",
    "        for element in self.stock:\n",
    "            if element['name'] == name.title():\n",
    "                element['quantity'] = quantity\n",
    "                print(f'Actualizamos la cantidad de \"{name.title()}\" a \"{element[\"quantity\"]}\".')\n",
    "\n",
    "                return #misma lógica de antes, uso return para salirme de la función\n",
    "        \n",
    "        print('El producto no está en el inventario')\n",
    "\n",
    "    def remove_product(self, name):\n",
    "        \"\"\"Removes a product from the stock by its name. Parameter: product name.\"\"\"\n",
    "\n",
    "        for num, element in enumerate(self.stock):\n",
    "            if element['name'] == name.title():\n",
    "                self.stock.pop(num)\n",
    "                print(f'Hemos eliminado \"{name.title()}\" del stock.')\n",
    "                return \n",
    "        \n",
    "        print('El producto no está en el inventario')\n",
    "\n",
    "    def calculate_total_sales(self):\n",
    "        \"\"\"Calculates and displays the total value (total_sales) of the stock.\"\"\"\n",
    "\n",
    "        for element in self.stock:\n",
    "            if element['name'] in element.values():\n",
    "\n",
    "                float(element['price']) #convierto en float los elementos, porque self.total_sales es float\n",
    "                float(element['quantity'])\n",
    "                sale = element['price'] * element['quantity']\n",
    "                print(f'Añadimos las ventas de \"{element[\"name\"]}\" por importe de \"${sale}\" al total de ventas')\n",
    "                \n",
    "                self.total_sales += sale\n",
    "                print('-'*40)\n",
    "        \n",
    "        self.total_sales = round(self.total_sales, 2)\n",
    "        print(f'Total ventas: ${self.total_sales}')\n",
    "\n"
   ]
  },
  {
   "cell_type": "code",
   "execution_count": 448,
   "metadata": {},
   "outputs": [],
   "source": [
    "my_shop = OnlineShop()"
   ]
  },
  {
   "cell_type": "code",
   "execution_count": 449,
   "metadata": {},
   "outputs": [
    {
     "name": "stdout",
     "output_type": "stream",
     "text": [
      "Se agregó \"Camisa\" al inventario\n"
     ]
    }
   ],
   "source": [
    "my_shop.add_product('camisa', 20, 40)"
   ]
  },
  {
   "cell_type": "code",
   "execution_count": 450,
   "metadata": {},
   "outputs": [
    {
     "name": "stdout",
     "output_type": "stream",
     "text": [
      "Se agregó \"Pantalón\" al inventario\n"
     ]
    }
   ],
   "source": [
    "my_shop.add_product('pantalón', 30, 30)"
   ]
  },
  {
   "cell_type": "code",
   "execution_count": 451,
   "metadata": {},
   "outputs": [
    {
     "name": "stdout",
     "output_type": "stream",
     "text": [
      "Actualizamos la cantidad de \"Pantalón\" a \"35\".\n"
     ]
    }
   ],
   "source": [
    "my_shop.add_product('pantalón', 30, 5)"
   ]
  },
  {
   "cell_type": "code",
   "execution_count": 452,
   "metadata": {},
   "outputs": [
    {
     "name": "stdout",
     "output_type": "stream",
     "text": [
      "Nombre: Camisa, Precio: $20, Cantidad: 40\n",
      "Nombre: Pantalón, Precio: $30, Cantidad: 35\n"
     ]
    }
   ],
   "source": [
    "my_shop.see_stock()"
   ]
  },
  {
   "cell_type": "code",
   "execution_count": 453,
   "metadata": {},
   "outputs": [
    {
     "name": "stdout",
     "output_type": "stream",
     "text": [
      "Se agregó \"Zapatos\" al inventario\n"
     ]
    }
   ],
   "source": [
    "my_shop.add_product('Zapatos', 50, 40)"
   ]
  },
  {
   "cell_type": "code",
   "execution_count": 454,
   "metadata": {},
   "outputs": [
    {
     "name": "stdout",
     "output_type": "stream",
     "text": [
      "Nombre: Camisa, Precio: $20, Cantidad: 40\n"
     ]
    }
   ],
   "source": [
    "my_shop.search_product('camisa')"
   ]
  },
  {
   "cell_type": "code",
   "execution_count": 455,
   "metadata": {},
   "outputs": [
    {
     "name": "stdout",
     "output_type": "stream",
     "text": [
      "El producto \"calcetines\" no está en el inventario\n"
     ]
    }
   ],
   "source": [
    "my_shop.search_product('calcetines')"
   ]
  },
  {
   "cell_type": "code",
   "execution_count": 456,
   "metadata": {},
   "outputs": [
    {
     "name": "stdout",
     "output_type": "stream",
     "text": [
      "Actualizamos la cantidad de \"Camisa\" a \"55\".\n"
     ]
    }
   ],
   "source": [
    "my_shop.update_stock('camisa', 55)"
   ]
  },
  {
   "cell_type": "code",
   "execution_count": 457,
   "metadata": {},
   "outputs": [
    {
     "name": "stdout",
     "output_type": "stream",
     "text": [
      "Nombre: Camisa, Precio: $20, Cantidad: 55\n",
      "Nombre: Pantalón, Precio: $30, Cantidad: 35\n",
      "Nombre: Zapatos, Precio: $50, Cantidad: 40\n"
     ]
    }
   ],
   "source": [
    "my_shop.see_stock()"
   ]
  },
  {
   "cell_type": "code",
   "execution_count": 458,
   "metadata": {},
   "outputs": [
    {
     "name": "stdout",
     "output_type": "stream",
     "text": [
      "Hemos eliminado \"Pantalón\" del stock.\n"
     ]
    }
   ],
   "source": [
    "my_shop.remove_product('pantalón')"
   ]
  },
  {
   "cell_type": "code",
   "execution_count": 459,
   "metadata": {},
   "outputs": [
    {
     "name": "stdout",
     "output_type": "stream",
     "text": [
      "Nombre: Camisa, Precio: $20, Cantidad: 55\n",
      "Nombre: Zapatos, Precio: $50, Cantidad: 40\n"
     ]
    }
   ],
   "source": [
    "my_shop.see_stock()"
   ]
  },
  {
   "cell_type": "code",
   "execution_count": 460,
   "metadata": {},
   "outputs": [
    {
     "data": {
      "text/plain": [
       "{'name': 'Zapatos', 'price': 50, 'quantity': 40}"
      ]
     },
     "execution_count": 460,
     "metadata": {},
     "output_type": "execute_result"
    }
   ],
   "source": [
    "my_shop.stock[1]"
   ]
  },
  {
   "cell_type": "code",
   "execution_count": 461,
   "metadata": {},
   "outputs": [
    {
     "data": {
      "text/plain": [
       "{'stock': [{'name': 'Camisa', 'price': 20, 'quantity': 55},\n",
       "  {'name': 'Zapatos', 'price': 50, 'quantity': 40}],\n",
       " 'total_sales': 0.0}"
      ]
     },
     "execution_count": 461,
     "metadata": {},
     "output_type": "execute_result"
    }
   ],
   "source": [
    "my_shop.__dict__"
   ]
  },
  {
   "cell_type": "code",
   "execution_count": 462,
   "metadata": {},
   "outputs": [
    {
     "name": "stdout",
     "output_type": "stream",
     "text": [
      "Se agregó \"Pantalón\" al inventario\n"
     ]
    }
   ],
   "source": [
    "my_shop.add_product('pantalón', 20, 20)"
   ]
  },
  {
   "cell_type": "code",
   "execution_count": 463,
   "metadata": {},
   "outputs": [
    {
     "name": "stdout",
     "output_type": "stream",
     "text": [
      "Añadimos las ventas de \"Camisa\" por importe de \"$1100\" al total de ventas\n",
      "----------------------------------------\n",
      "Añadimos las ventas de \"Zapatos\" por importe de \"$2000\" al total de ventas\n",
      "----------------------------------------\n",
      "Añadimos las ventas de \"Pantalón\" por importe de \"$400\" al total de ventas\n",
      "----------------------------------------\n",
      "Total ventas: $3500.0\n"
     ]
    }
   ],
   "source": [
    "my_shop.calculate_total_sales()"
   ]
  },
  {
   "cell_type": "code",
   "execution_count": 464,
   "metadata": {},
   "outputs": [
    {
     "name": "stdout",
     "output_type": "stream",
     "text": [
      "Nombre: Camisa, Precio: $20, Cantidad: 55\n",
      "Nombre: Zapatos, Precio: $50, Cantidad: 40\n",
      "Nombre: Pantalón, Precio: $20, Cantidad: 20\n"
     ]
    }
   ],
   "source": [
    "my_shop.see_stock()"
   ]
  },
  {
   "cell_type": "code",
   "execution_count": 465,
   "metadata": {},
   "outputs": [
    {
     "data": {
      "text/plain": [
       "3500.0"
      ]
     },
     "execution_count": 465,
     "metadata": {},
     "output_type": "execute_result"
    }
   ],
   "source": [
    "my_shop.total_sales"
   ]
  },
  {
   "cell_type": "code",
   "execution_count": 466,
   "metadata": {},
   "outputs": [
    {
     "data": {
      "text/plain": [
       "{'stock': [{'name': 'Camisa', 'price': 20, 'quantity': 55},\n",
       "  {'name': 'Zapatos', 'price': 50, 'quantity': 40},\n",
       "  {'name': 'Pantalón', 'price': 20, 'quantity': 20}],\n",
       " 'total_sales': 3500.0}"
      ]
     },
     "execution_count": 466,
     "metadata": {},
     "output_type": "execute_result"
    }
   ],
   "source": [
    "my_shop.__dict__"
   ]
  },
  {
   "cell_type": "code",
   "execution_count": 467,
   "metadata": {},
   "outputs": [
    {
     "name": "stdout",
     "output_type": "stream",
     "text": [
      "El producto no está en el inventario\n"
     ]
    }
   ],
   "source": [
    "my_shop.remove_product(\"calcetines\")"
   ]
  },
  {
   "cell_type": "code",
   "execution_count": 468,
   "metadata": {},
   "outputs": [
    {
     "name": "stdout",
     "output_type": "stream",
     "text": [
      "Hemos eliminado \"Zapatos\" del stock.\n"
     ]
    }
   ],
   "source": [
    "my_shop.remove_product('zapatos')"
   ]
  },
  {
   "cell_type": "code",
   "execution_count": 469,
   "metadata": {},
   "outputs": [
    {
     "name": "stdout",
     "output_type": "stream",
     "text": [
      "Nombre: Camisa, Precio: $20, Cantidad: 55\n",
      "Nombre: Pantalón, Precio: $20, Cantidad: 20\n"
     ]
    }
   ],
   "source": [
    "my_shop.see_stock()"
   ]
  },
  {
   "cell_type": "code",
   "execution_count": 470,
   "metadata": {},
   "outputs": [
    {
     "name": "stdout",
     "output_type": "stream",
     "text": [
      "Se agregó \"Calcetines\" al inventario\n"
     ]
    }
   ],
   "source": [
    "my_shop.add_product('calcetines', 6, 5)"
   ]
  },
  {
   "cell_type": "code",
   "execution_count": 471,
   "metadata": {},
   "outputs": [
    {
     "name": "stdout",
     "output_type": "stream",
     "text": [
      "Nombre: Camisa, Precio: $20, Cantidad: 55\n",
      "Nombre: Pantalón, Precio: $20, Cantidad: 20\n",
      "Nombre: Calcetines, Precio: $6, Cantidad: 5\n"
     ]
    }
   ],
   "source": [
    "my_shop.see_stock()"
   ]
  },
  {
   "cell_type": "code",
   "execution_count": 472,
   "metadata": {},
   "outputs": [],
   "source": [
    "store123 = OnlineShop()"
   ]
  },
  {
   "cell_type": "code",
   "execution_count": 473,
   "metadata": {},
   "outputs": [
    {
     "name": "stdout",
     "output_type": "stream",
     "text": [
      "Se agregó \"Plátano\" al inventario\n"
     ]
    }
   ],
   "source": [
    "store123.add_product('plátano', 0.99, 40)"
   ]
  },
  {
   "cell_type": "code",
   "execution_count": 474,
   "metadata": {},
   "outputs": [
    {
     "name": "stdout",
     "output_type": "stream",
     "text": [
      "Se agregó \"Aguacate\" al inventario\n"
     ]
    }
   ],
   "source": [
    "store123.add_product('aguacate', 3.99, 20)"
   ]
  },
  {
   "cell_type": "code",
   "execution_count": 475,
   "metadata": {},
   "outputs": [
    {
     "name": "stdout",
     "output_type": "stream",
     "text": [
      "Se agregó \"Ciruela\" al inventario\n"
     ]
    }
   ],
   "source": [
    "store123.add_product('ciruela', 1.39, 60)"
   ]
  },
  {
   "cell_type": "code",
   "execution_count": 476,
   "metadata": {},
   "outputs": [
    {
     "name": "stdout",
     "output_type": "stream",
     "text": [
      "Actualizamos la cantidad de \"Plátano\" a \"50\".\n"
     ]
    }
   ],
   "source": [
    "store123.add_product('plátano', 0.99, 10)"
   ]
  },
  {
   "cell_type": "code",
   "execution_count": 477,
   "metadata": {},
   "outputs": [
    {
     "name": "stdout",
     "output_type": "stream",
     "text": [
      "Nombre: Plátano, Precio: $0.99, Cantidad: 50\n",
      "Nombre: Aguacate, Precio: $3.99, Cantidad: 20\n",
      "Nombre: Ciruela, Precio: $1.39, Cantidad: 60\n"
     ]
    }
   ],
   "source": [
    "store123.see_stock()"
   ]
  },
  {
   "cell_type": "code",
   "execution_count": 478,
   "metadata": {},
   "outputs": [
    {
     "name": "stdout",
     "output_type": "stream",
     "text": [
      "El producto \"piña\" no está en el inventario\n"
     ]
    }
   ],
   "source": [
    "store123.search_product('piña')"
   ]
  },
  {
   "cell_type": "code",
   "execution_count": 479,
   "metadata": {},
   "outputs": [
    {
     "name": "stdout",
     "output_type": "stream",
     "text": [
      "Nombre: Plátano, Precio: $0.99, Cantidad: 50\n"
     ]
    }
   ],
   "source": [
    "store123.search_product('plátano')"
   ]
  },
  {
   "cell_type": "code",
   "execution_count": 480,
   "metadata": {},
   "outputs": [
    {
     "name": "stdout",
     "output_type": "stream",
     "text": [
      "El producto no está en el inventario\n"
     ]
    }
   ],
   "source": [
    "store123.update_stock('manzana', 40)"
   ]
  },
  {
   "cell_type": "code",
   "execution_count": 481,
   "metadata": {},
   "outputs": [
    {
     "name": "stdout",
     "output_type": "stream",
     "text": [
      "Actualizamos la cantidad de \"Aguacate\" a \"55\".\n"
     ]
    }
   ],
   "source": [
    "store123.update_stock('aguacate', 55)"
   ]
  },
  {
   "cell_type": "code",
   "execution_count": 482,
   "metadata": {},
   "outputs": [
    {
     "name": "stdout",
     "output_type": "stream",
     "text": [
      "Nombre: Plátano, Precio: $0.99, Cantidad: 50\n",
      "Nombre: Aguacate, Precio: $3.99, Cantidad: 55\n",
      "Nombre: Ciruela, Precio: $1.39, Cantidad: 60\n"
     ]
    }
   ],
   "source": [
    "store123.see_stock()"
   ]
  },
  {
   "cell_type": "code",
   "execution_count": 483,
   "metadata": {},
   "outputs": [
    {
     "name": "stdout",
     "output_type": "stream",
     "text": [
      "Hemos eliminado \"Ciruela\" del stock.\n"
     ]
    }
   ],
   "source": [
    "store123.remove_product('ciruela')"
   ]
  },
  {
   "cell_type": "code",
   "execution_count": 484,
   "metadata": {},
   "outputs": [
    {
     "name": "stdout",
     "output_type": "stream",
     "text": [
      "El producto no está en el inventario\n"
     ]
    }
   ],
   "source": [
    "store123.remove_product('manzana')"
   ]
  },
  {
   "cell_type": "code",
   "execution_count": 485,
   "metadata": {},
   "outputs": [
    {
     "name": "stdout",
     "output_type": "stream",
     "text": [
      "Nombre: Plátano, Precio: $0.99, Cantidad: 50\n",
      "Nombre: Aguacate, Precio: $3.99, Cantidad: 55\n"
     ]
    }
   ],
   "source": [
    "store123.see_stock()"
   ]
  },
  {
   "cell_type": "code",
   "execution_count": 486,
   "metadata": {},
   "outputs": [
    {
     "name": "stdout",
     "output_type": "stream",
     "text": [
      "Añadimos las ventas de \"Plátano\" por importe de \"$49.5\" al total de ventas\n",
      "----------------------------------------\n",
      "Añadimos las ventas de \"Aguacate\" por importe de \"$219.45000000000002\" al total de ventas\n",
      "----------------------------------------\n",
      "Total ventas: $268.95\n"
     ]
    }
   ],
   "source": [
    "store123.calculate_total_sales()"
   ]
  },
  {
   "cell_type": "markdown",
   "metadata": {},
   "source": [
    "## BONUS \n",
    "\n",
    "**Dedica tiempo a esta sección solo si has terminado la anterior, entiendes bien lo que has realizado y te sientes lo suficientemente segura para avanzar. Recuerda que el objetivo principal no es completarlo todo, sino disfrutar del proceso y consolidar tu aprendizaje.**\n",
    "\n",
    "Para realizar esta parte, debes añadir los siguientes atributos a la clase `TiendaOnline`:\n",
    "\n",
    "- `clientes` (diccionario): Un atributo para llevar un registro de los clientes de la tienda. Cada cliente debe ser representado como un diccionario con las siguientes claves: `'nombre'` y `'email'`. Al inicio deberá ser un diccionario vacío. Además, cada cliente debe tener un historial de compras. Deberá parecerse a:\n",
    "\n",
    "    ```python\n",
    "        {'Cliente1': {'email': 'cliente1@email.com', 'compras': []},\n",
    "        'Cliente2': {'email': 'cliente2@email.com', 'compras': []}}\n",
    "    ```\n",
    "\n",
    "Y posteriormente, debes añadir los siguientes métodos a la clase `TiendaOnline`:\n",
    "\n",
    "1. `agregar_cliente(self, nombre, email)`: Agrega un nuevo cliente al registro de clientes. Debe recibir el nombre y el correo electrónico del cliente como parámetros.\n",
    "    - Agrega un cliente al diccionario de clientes con su nombre y correo electrónico.\n",
    "\n",
    "1. `ver_clientes(self)`: Muestra la lista de clientes registrados con sus nombres y correos electrónicos.\n",
    "\n",
    "    - Utiliza un bucle `for` para recorrer la base de datos de clientes.\n",
    "    - Imprime los detalles de cada cliente (nombre y correo electrónico).\n",
    "\n",
    "1. `realizar_compra(self)`: Permite a un cliente realizar una compra seleccionando productos del inventario. Debe interactuar con el cliente para seleccionar productos y calcular el costo total de la compra.\n",
    "\n",
    "    - Utiliza un bucle `while` para permitir al cliente realizar múltiples compras.\n",
    "    - Muestra el inventario y solicita al cliente ingresar el nombre del producto que desea comprar.\n",
    "    - Registra los productos seleccionados en un carrito y actualiza el inventario.\n",
    "    - Calcula el costo total de la compra.\n",
    "\n",
    "1. `procesar_pago(self)`: Procesa el pago de una compra, calcula el cambio y muestra un mensaje de confirmación.\n",
    "\n",
    "    - Utiliza un bloque `try...except` para manejar excepciones.\n",
    "    - Solicita al cliente ingresar la cantidad total y la cantidad de pago usando un input.\n",
    "    - Calcula el cambio y muestra un mensaje de pago exitoso o un error en caso de monto insuficiente.\n",
    "\n",
    "2. `registrar_compra(self, nombre_cliente, carrito)`: Registra una compra para un cliente, actualiza las ventas totales y agrega la compra al historial del cliente. Debe recibir el nombre del cliente y el carrito de compras como parámetros.\n",
    "\n",
    "    - Busca al cliente en el diccionario de clientes.\n",
    "    - Si el cliente no esta en el diccionario de clientes, muestra que no se puede realizar la acción por que el cliente no está en el diccionario. \n",
    "    - Calcula el total de la compra y registra la compra, incluyendo los productos y el total.\n",
    "    - Ejemplo:\n",
    "\n",
    "    ```python\n",
    "    carrito_cliente1 = {\"Camisa\": {\"precio\": 20, \"cantidad\": 3}}\n",
    "    tienda.registrar_compra(\"Cliente1\", carrito_cliente1)\n",
    "    ```\n",
    "\n",
    "3. `ver_compras_cliente(self, nombre_cliente)`: Muestra el historial de compras de un cliente. Debe recibir el nombre del cliente como parámetro.\n",
    "\n",
    "    - Busca al cliente en el diccionario de clientes.\n",
    "\n",
    "    - Muestra las compras realizadas por el cliente, incluyendo detalles de productos y totales.\n",
    "\n",
    "4. `calcular_ventas_totales(self)`: Muestra las ventas totales de la tienda.\n",
    "\n",
    "    - Suma los totales de todas las compras realizadas y muestra el total de ventas totales en la tienda.\n",
    "\n",
    "\n",
    "\n",
    "\n",
    "## Normas\n",
    "\n",
    "Este ejercicio está pensado para que lo realices de forma individual en clase, pero podrás consultar tus dudas con la profesora y tus compañeras si lo consideras necesario. Ellas no te darán directamente la solución de tu duda, pero sí pistas para poder solucionarla. Aún facilitando la comunicación entre compañeras, durante la prueba no debes copiar código de otra persona ni acceder a su portátil. Confiamos en tu responsabilidad.\n",
    "\n",
    "La evaluación es una buena oportunidad para conocer cómo estás progresando, saber qué temas debes reforzar durante las siguientes semanas y cuáles dominas. Te recomendamos que te sientas cómoda con el ejercicio que entregues y no envíes cosas copiadas que no entiendas.\n",
    "\n",
    "Si detectamos que has entregado código que no es tuyo, no entiendes y no lo puedes defender, pasarás directamente a la re-evaluación del módulo. Tu objetivo no debería ser pasar la evaluación sino convertirte en analista de datos, y esto debes tenerlo claro en todo momento.\n",
    "\n",
    "Una vez entregado el ejercicio realizarás una revisión del mismo con la profesora (20 minutos), que se asemejará a una entrevista técnica: te pedirá que expliques las decisiones tomadas para realizarlo.\n",
    "\n",
    "Es una oportunidad para practicar la dinámica de una entrevista técnica donde te van a proponer cambios sobre tu código que no conoces a priori. Si evitas que otras compañeras te den pistas sobre la dinámica de feedback, podrás aprovecharlo como una práctica y pasar los nervios con la profesora en lugar de en tu primera entrevista de trabajo.\n",
    "\n",
    "Al final tendrás un feedback sobre aspectos a destacar y a mejorar en tu ejercicio, y sabrás qué objetivos de aprendizaje has supera\n",
    "\n",
    "## Criterios de evaluación\n",
    "\n",
    "Vamos a listar los criterios de evaluación de este ejercicio. Si no superas al menos el 80% de estos criterios o no has superado algún criterio clave (marcados con \\*) te pediremos que realices una re-evaluación con el fin de que termines el curso mejor preparada y enfrentes tu primera experiencia profesional con más seguridad. En caso contrario, estás aprendiendo al ritmo que hemos pautado para poder afrontar los conocimientos del siguiente módulo.\n",
    "\n",
    "### Python Básico\n",
    "- Condicionales (if, elif, else)*\n",
    "- Bucles (for y while). Importante entender cómo iterar por una lista, o un diccionario. *\n",
    "- Funciones (creación de funciones con parámetros, parámetros por defecto)*\n",
    "- Conceptos básicos de regex\n",
    "- Clases\n",
    "- Diferencias entre los distintos tipos de datos en python (strings, listas, tuplas, sets y diccionarios)\n",
    "\n",
    "### Otros criterios a tener en cuenta\n",
    "\n",
    "- Usar inglés para nombres de variables, funciones, clases, mensajes de commit, nombres de ficheros.\n",
    "- El repositorio de GitHub debe tener README explicando muy brevemente cómo arrancar el proyecto.\n",
    "\n",
    "¡Al turrón!"
   ]
  }
 ],
 "metadata": {
  "kernelspec": {
   "display_name": "Python 3",
   "language": "python",
   "name": "python3"
  },
  "language_info": {
   "codemirror_mode": {
    "name": "ipython",
    "version": 3
   },
   "file_extension": ".py",
   "mimetype": "text/x-python",
   "name": "python",
   "nbconvert_exporter": "python",
   "pygments_lexer": "ipython3",
   "version": "3.9.6"
  }
 },
 "nbformat": 4,
 "nbformat_minor": 2
}
