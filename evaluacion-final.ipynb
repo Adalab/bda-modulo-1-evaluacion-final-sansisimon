{
 "cells": [
  {
   "cell_type": "markdown",
   "metadata": {},
   "source": [
    "# Evaluación Final Módulo 1 Data Analytics\n",
    "\n",
    "## Instrucciones:\n",
    "\n",
    "- Antes de empezar, hay que crear un nuevo repositorio desde GitHub Classroom usando este [enlace](https://classroom.github.com/a/irgzJ0KJ). Una vez creado, hay que clonar en nuestro ordenador y en la carpeta creada empezaremos a trabajar en el ejercicio.\n",
    "\n",
    "- Esta evaluación consta de una serie de preguntas que evalúan tu comprensión y habilidades en relación con funciones, clases y regex.\n",
    "\n",
    "- Puedes usar recursos externos, incluyendo internet y materiales de referencia o tus propias notas.\n",
    "\n",
    "- Completa los ejercicios en un jupyter notebook."
   ]
  },
  {
   "cell_type": "markdown",
   "metadata": {},
   "source": [
    "## Ejercicio\n",
    "\n",
    "A lo largo de esta evaluación tendrás que crear una clase llamada `TiendaOnline` que cumpla los siguientes requisitos:\n",
    "\n",
    " - La clase `TiendaOnline` debe tener los siguientes atributos:\n",
    "\n",
    "    1. `inventario` (lista de diccionarios): Un atributo para almacenar los productos en el inventario. Cada producto debe ser representado como un diccionario con las siguientes claves: `'nombre'`, `'precio'`, y `'cantidad'`. Al principio deberá ser una lista vacía. Ejemplo de como debería ser:\n",
    "\n",
    "        ```python\n",
    "            [{'nombre': 'Camisa', 'precio': 20, 'cantidad': 40},\n",
    "            {'nombre': 'Pantalón', 'precio': 30, 'cantidad': 30}]\n",
    "        ```\n",
    "\n",
    "    1. `ventas_totales` (float): Un atributo para llevar un registro de las ventas totales de la tienda. Inicializado con valor 0. \n",
    "\n",
    "\n",
    "  \n",
    "La clase `TiendaOnline` debe tener los siguientes métodos:\n",
    "\n",
    "1. `agregar_producto(self, nombre, precio, cantidad)`: Este método agrega un producto al inventario o actualiza su cantidad si ya existe. Debe recibir el nombre, precio y cantidad del producto como parámetros. \n",
    "\n",
    "    - Itera a través del inventario y compara los nombres de los productos con el nombre proporcionado.\n",
    "    - Si el producto ya existe, actualiza la cantidad.\n",
    "    - Si no existe, agrega un nuevo producto al inventario.\n",
    "\n",
    "2. `ver_inventario(self)`: Muestra el inventario de productos con sus detalles.\n",
    "\n",
    "   - Utiliza un bucle `for` para recorrer el inventario.\n",
    "   - Imprime los detalles (nombre, precio, cantidad) de cada producto.\n",
    "   - Debería verse:\n",
    "         \n",
    "        ```python\n",
    "            Nombre: Camisa, Precio: $20, Cantidad: 50\n",
    "            Nombre: Pantalón, Precio: $30, Cantidad: 30\n",
    "            Nombre: Zapatos, Precio: $50, Cantidad: 40\n",
    "            Nombre: Camisa, Precio: $20, Cantidad: 50\n",
    "        ```\n",
    "\n",
    "3. `buscar_producto(self, nombre)`: Busca un producto en el inventario por nombre y muestra sus detalles si se encuentra. Debe recibir el nombre del producto como parámetro.\n",
    "\n",
    "    - Utiliza un bucle `for` para recorrer el inventario.\n",
    "    - Compara los nombres de los productos con el nombre proporcionado.\n",
    "    - Si se encuentra el producto, imprime sus detalles.\n",
    "    - Debe mostrar:\n",
    "\n",
    "        ```python\n",
    "        Nombre: Camisa, Precio: $20, Cantidad: 40\n",
    "        ```\n",
    "\n",
    "1. `actualizar_stock(self, nombre, cantidad)`: Actualiza el stock de un producto en el inventario. Debe recibir el nombre del producto y la cantidad a agregar o quitar como parámetros.\n",
    "\n",
    "    - Utiliza un bucle `for` para recorrer el inventario.\n",
    "    - Busca el producto por nombre.\n",
    "    - Actualiza la cantidad según la entrada del usuario.\n",
    "    - Si el producto no esta en el inventario muestra un mensaje indicándolo. \n",
    "\n",
    "1. `eliminar_producto(self, nombre)`: Elimina un producto del inventario por nombre. Debe recibir el nombre del producto como parámetro.\n",
    "\n",
    "    - Utiliza un bucle `for` para recorrer el inventario.\n",
    "    - Busca el producto por nombre.\n",
    "    - Elimina el producto del inventario si existe.\n",
    "    - Si el producto no esta en el inventario muestra un mensaje indicándolo. \n",
    "\n",
    "1. `calcular_valor_inventario(self)`: Calcula y muestra el valor total del inventario.\n",
    "\n",
    "    - Utiliza un bucle for para calcular el valor total del inventario.\n",
    "    - Itera a través del inventario y suma el valor de cada producto (precio x cantidad). Es decir, calcula el valor total del inventario. Ejemplo:\n",
    "\n",
    "    ```python\n",
    "    # si tenemos 5 camisas que valen 5 euros \n",
    "    # y 10 calcetines que valen 1 euro\n",
    "    # este método te tiene que devolver: 35 euros\n",
    "\n",
    "    valor_camisas = 5 * 5\n",
    "    valor_calcetines = 10 * 1\n",
    "\n",
    "    valor_camisas + valor_calcetines = 35\n",
    "    ```\n",
    "\n",
    "**Instrucciones Adicionales:**\n",
    "\n",
    "- Debes crear instancias de la clase `TiendaOnline` y probar cada uno de los métodos para demostrar que funcionan correctamente.\n",
    "- Para las entrevistas técnicas, asegúrate de tener preparado un código que permita añadir una cantidad significativa de productos al inventario. Esto facilitará comprobar los métodos para visualizar el inventario, buscar productos, y otras funcionalidades están funcionando correctamente.\""
   ]
  },
  {
   "cell_type": "code",
   "execution_count": 1779,
   "metadata": {},
   "outputs": [],
   "source": [
    "class OnlineShop:\n",
    "\n",
    "    def __init__(self): #no hay parámetros en el init porque son parámetros por defecto\n",
    "        self.stock = [] \n",
    "        self.total_sales = 0.0\n",
    "\n",
    "    \n",
    "    def add_product(self, name, price, quantity):\n",
    "        \n",
    "        \"\"\"Add a new product to the stock. If it already exists, sum the quantity.\n",
    "        Params: name, price, quantity of the product.\"\"\"\n",
    "\n",
    "        #PART 1: comprobamos si el producto está ya en el stock:\n",
    "        \n",
    "        for element in self.stock: \n",
    "            if element['name'] == name.title(): \n",
    "                element['quantity'] += quantity\n",
    "                print(f'Actualizamos la cantidad de \"{name.title()}\" a \"{element[\"quantity\"]}\".')\n",
    "                return \n",
    "\n",
    "        \"\"\" Using return to exit the function and avoid executing part 2 of the code. \n",
    "        Break is not working because even if it exits the loop, the Part 2 of the code \n",
    "        (the one that adds the product to the stock) would start executing.\"\"\"         \n",
    "\n",
    "        #PART 2: appendeamos a la lista el producto.\n",
    "                       \n",
    "        product = {'name': name.title(), 'price': price, 'quantity': quantity}\n",
    "        self.stock.append(product)\n",
    "        print(f'Se agregó \"{product[\"name\"]}\" al inventario')\n",
    "\n",
    "\n",
    "    def see_stock(self):\n",
    "\n",
    "        \"\"\"Displays the inventory of products with their details\"\"\"\n",
    "\n",
    "        for element in self.stock:\n",
    "            print(f\"Nombre: {(element['name'])}, Precio: ${(element['price'])}, Cantidad: {(element['quantity'])}\")\n",
    "    \n",
    "\n",
    "    def search_product(self, name):\n",
    "\n",
    "        \"\"\"Searches for a product in the stock by name and displays its details, if found. \n",
    "        Parameter: name of the product.\"\"\"\n",
    "\n",
    "        for element in self.stock:\n",
    "            if element['name'] == name.title():\n",
    "                print(f\"Nombre: {(element['name'])}, Precio: ${(element['price'])}, Cantidad: {(element['quantity'])}\")\n",
    "                \n",
    "                return #misma lógica de antes, uso return para salirme de la función\n",
    "\n",
    "        print(f'El producto \"{name}\" no está en el inventario') \n",
    "\n",
    "\n",
    "    def update_stock(self, name, quantity):\n",
    "\n",
    "        \"\"\"Updates the stock of a product (key quantity). Parameters: (1) product name and (2) new quantity.\"\"\"\n",
    "\n",
    "        for element in self.stock:\n",
    "            if element['name'] == name.title():\n",
    "                element['quantity'] = quantity\n",
    "                print(f'Actualizamos la cantidad de \"{name.title()}\" a \"{element[\"quantity\"]}\".')\n",
    "\n",
    "                return #misma lógica de antes, uso return para salirme de la función\n",
    "        \n",
    "        print('El producto no está en el inventario')\n",
    "\n",
    "    def remove_product(self, name):\n",
    "\n",
    "        \"\"\"Removes a product from the stock by its name. Parameter: product name.\"\"\"\n",
    "\n",
    "        for num, element in enumerate(self.stock):\n",
    "            if element['name'] == name.title():\n",
    "                self.stock.pop(num)\n",
    "                print(f'Hemos eliminado \"{name.title()}\" del stock.')\n",
    "                return \n",
    "        \n",
    "        print('El producto no está en el inventario')\n",
    "\n",
    "    def calculate_total_stock(self):\n",
    "        \n",
    "        \"\"\"Calculates and displays the total value of the stock.\"\"\"\n",
    "        total_stock = 0\n",
    "\n",
    "        for element in self.stock:\n",
    "            if element['name'] in element.values():\n",
    "\n",
    "                float(element['price']) #convierto en float los elementos, porque self.total_stock es float\n",
    "                float(element['quantity'])\n",
    "                sub_stock = element['price'] * element['quantity']\n",
    "                \n",
    "                total_stock += sub_stock\n",
    "        \n",
    "        total_stock = round(total_stock, 2)\n",
    "        print(f'Total stock: ${total_stock}')          \n"
   ]
  },
  {
   "cell_type": "code",
   "execution_count": 1780,
   "metadata": {},
   "outputs": [],
   "source": [
    "my_shop = OnlineShop()"
   ]
  },
  {
   "cell_type": "code",
   "execution_count": 1781,
   "metadata": {},
   "outputs": [
    {
     "name": "stdout",
     "output_type": "stream",
     "text": [
      "Se agregó \"Camisa\" al inventario\n"
     ]
    }
   ],
   "source": [
    "my_shop.add_product('camisa', 20, 40)"
   ]
  },
  {
   "cell_type": "code",
   "execution_count": 1782,
   "metadata": {},
   "outputs": [
    {
     "name": "stdout",
     "output_type": "stream",
     "text": [
      "Se agregó \"Pantalón\" al inventario\n"
     ]
    }
   ],
   "source": [
    "my_shop.add_product('pantalón', 30, 30)"
   ]
  },
  {
   "cell_type": "code",
   "execution_count": 1783,
   "metadata": {},
   "outputs": [
    {
     "name": "stdout",
     "output_type": "stream",
     "text": [
      "Actualizamos la cantidad de \"Pantalón\" a \"35\".\n"
     ]
    }
   ],
   "source": [
    "my_shop.add_product('pantalón', 30, 5)"
   ]
  },
  {
   "cell_type": "code",
   "execution_count": 1784,
   "metadata": {},
   "outputs": [
    {
     "name": "stdout",
     "output_type": "stream",
     "text": [
      "Nombre: Camisa, Precio: $20, Cantidad: 40\n",
      "Nombre: Pantalón, Precio: $30, Cantidad: 35\n"
     ]
    }
   ],
   "source": [
    "my_shop.see_stock()"
   ]
  },
  {
   "cell_type": "code",
   "execution_count": 1785,
   "metadata": {},
   "outputs": [
    {
     "name": "stdout",
     "output_type": "stream",
     "text": [
      "Se agregó \"Zapatos\" al inventario\n"
     ]
    }
   ],
   "source": [
    "my_shop.add_product('Zapatos', 50, 40)"
   ]
  },
  {
   "cell_type": "code",
   "execution_count": 1786,
   "metadata": {},
   "outputs": [
    {
     "name": "stdout",
     "output_type": "stream",
     "text": [
      "Nombre: Camisa, Precio: $20, Cantidad: 40\n"
     ]
    }
   ],
   "source": [
    "my_shop.search_product('camisa')"
   ]
  },
  {
   "cell_type": "code",
   "execution_count": 1787,
   "metadata": {},
   "outputs": [
    {
     "name": "stdout",
     "output_type": "stream",
     "text": [
      "El producto \"calcetines\" no está en el inventario\n"
     ]
    }
   ],
   "source": [
    "my_shop.search_product('calcetines')"
   ]
  },
  {
   "cell_type": "code",
   "execution_count": 1788,
   "metadata": {},
   "outputs": [
    {
     "name": "stdout",
     "output_type": "stream",
     "text": [
      "Actualizamos la cantidad de \"Camisa\" a \"55\".\n"
     ]
    }
   ],
   "source": [
    "my_shop.update_stock('camisa', 55)"
   ]
  },
  {
   "cell_type": "code",
   "execution_count": 1789,
   "metadata": {},
   "outputs": [
    {
     "name": "stdout",
     "output_type": "stream",
     "text": [
      "Nombre: Camisa, Precio: $20, Cantidad: 55\n",
      "Nombre: Pantalón, Precio: $30, Cantidad: 35\n",
      "Nombre: Zapatos, Precio: $50, Cantidad: 40\n"
     ]
    }
   ],
   "source": [
    "my_shop.see_stock()"
   ]
  },
  {
   "cell_type": "code",
   "execution_count": 1790,
   "metadata": {},
   "outputs": [
    {
     "name": "stdout",
     "output_type": "stream",
     "text": [
      "Hemos eliminado \"Pantalón\" del stock.\n"
     ]
    }
   ],
   "source": [
    "my_shop.remove_product('pantalón')"
   ]
  },
  {
   "cell_type": "code",
   "execution_count": 1791,
   "metadata": {},
   "outputs": [
    {
     "name": "stdout",
     "output_type": "stream",
     "text": [
      "Nombre: Camisa, Precio: $20, Cantidad: 55\n",
      "Nombre: Zapatos, Precio: $50, Cantidad: 40\n"
     ]
    }
   ],
   "source": [
    "my_shop.see_stock()"
   ]
  },
  {
   "cell_type": "code",
   "execution_count": 1792,
   "metadata": {},
   "outputs": [
    {
     "data": {
      "text/plain": [
       "{'name': 'Zapatos', 'price': 50, 'quantity': 40}"
      ]
     },
     "execution_count": 1792,
     "metadata": {},
     "output_type": "execute_result"
    }
   ],
   "source": [
    "my_shop.stock[1]"
   ]
  },
  {
   "cell_type": "code",
   "execution_count": 1793,
   "metadata": {},
   "outputs": [
    {
     "data": {
      "text/plain": [
       "{'stock': [{'name': 'Camisa', 'price': 20, 'quantity': 55},\n",
       "  {'name': 'Zapatos', 'price': 50, 'quantity': 40}],\n",
       " 'total_sales': 0.0}"
      ]
     },
     "execution_count": 1793,
     "metadata": {},
     "output_type": "execute_result"
    }
   ],
   "source": [
    "my_shop.__dict__"
   ]
  },
  {
   "cell_type": "code",
   "execution_count": 1794,
   "metadata": {},
   "outputs": [
    {
     "name": "stdout",
     "output_type": "stream",
     "text": [
      "Se agregó \"Pantalón\" al inventario\n"
     ]
    }
   ],
   "source": [
    "my_shop.add_product('pantalón', 20, 20)"
   ]
  },
  {
   "cell_type": "code",
   "execution_count": 1795,
   "metadata": {},
   "outputs": [
    {
     "name": "stdout",
     "output_type": "stream",
     "text": [
      "Total stock: $3500\n"
     ]
    }
   ],
   "source": [
    "my_shop.calculate_total_stock()"
   ]
  },
  {
   "cell_type": "code",
   "execution_count": 1796,
   "metadata": {},
   "outputs": [
    {
     "name": "stdout",
     "output_type": "stream",
     "text": [
      "Nombre: Camisa, Precio: $20, Cantidad: 55\n",
      "Nombre: Zapatos, Precio: $50, Cantidad: 40\n",
      "Nombre: Pantalón, Precio: $20, Cantidad: 20\n"
     ]
    }
   ],
   "source": [
    "my_shop.see_stock()"
   ]
  },
  {
   "cell_type": "code",
   "execution_count": 1797,
   "metadata": {},
   "outputs": [
    {
     "data": {
      "text/plain": [
       "{'stock': [{'name': 'Camisa', 'price': 20, 'quantity': 55},\n",
       "  {'name': 'Zapatos', 'price': 50, 'quantity': 40},\n",
       "  {'name': 'Pantalón', 'price': 20, 'quantity': 20}],\n",
       " 'total_sales': 0.0}"
      ]
     },
     "execution_count": 1797,
     "metadata": {},
     "output_type": "execute_result"
    }
   ],
   "source": [
    "my_shop.__dict__"
   ]
  },
  {
   "cell_type": "code",
   "execution_count": 1798,
   "metadata": {},
   "outputs": [
    {
     "name": "stdout",
     "output_type": "stream",
     "text": [
      "El producto no está en el inventario\n"
     ]
    }
   ],
   "source": [
    "my_shop.remove_product(\"calcetines\")"
   ]
  },
  {
   "cell_type": "code",
   "execution_count": 1799,
   "metadata": {},
   "outputs": [
    {
     "name": "stdout",
     "output_type": "stream",
     "text": [
      "Hemos eliminado \"Zapatos\" del stock.\n"
     ]
    }
   ],
   "source": [
    "my_shop.remove_product('zapatos')"
   ]
  },
  {
   "cell_type": "code",
   "execution_count": 1800,
   "metadata": {},
   "outputs": [
    {
     "name": "stdout",
     "output_type": "stream",
     "text": [
      "Nombre: Camisa, Precio: $20, Cantidad: 55\n",
      "Nombre: Pantalón, Precio: $20, Cantidad: 20\n"
     ]
    }
   ],
   "source": [
    "my_shop.see_stock()"
   ]
  },
  {
   "cell_type": "code",
   "execution_count": 1801,
   "metadata": {},
   "outputs": [
    {
     "name": "stdout",
     "output_type": "stream",
     "text": [
      "Se agregó \"Calcetines\" al inventario\n"
     ]
    }
   ],
   "source": [
    "my_shop.add_product('calcetines', 6, 5)"
   ]
  },
  {
   "cell_type": "code",
   "execution_count": 1802,
   "metadata": {},
   "outputs": [
    {
     "name": "stdout",
     "output_type": "stream",
     "text": [
      "Nombre: Camisa, Precio: $20, Cantidad: 55\n",
      "Nombre: Pantalón, Precio: $20, Cantidad: 20\n",
      "Nombre: Calcetines, Precio: $6, Cantidad: 5\n"
     ]
    }
   ],
   "source": [
    "my_shop.see_stock()"
   ]
  },
  {
   "cell_type": "code",
   "execution_count": 1803,
   "metadata": {},
   "outputs": [],
   "source": [
    "store123 = OnlineShop()"
   ]
  },
  {
   "cell_type": "code",
   "execution_count": 1804,
   "metadata": {},
   "outputs": [
    {
     "name": "stdout",
     "output_type": "stream",
     "text": [
      "Se agregó \"Plátano\" al inventario\n"
     ]
    }
   ],
   "source": [
    "store123.add_product('plátano', 0.99, 40)"
   ]
  },
  {
   "cell_type": "code",
   "execution_count": 1805,
   "metadata": {},
   "outputs": [
    {
     "name": "stdout",
     "output_type": "stream",
     "text": [
      "Se agregó \"Aguacate\" al inventario\n"
     ]
    }
   ],
   "source": [
    "store123.add_product('aguacate', 3.99, 20)"
   ]
  },
  {
   "cell_type": "code",
   "execution_count": 1806,
   "metadata": {},
   "outputs": [
    {
     "name": "stdout",
     "output_type": "stream",
     "text": [
      "Se agregó \"Ciruela\" al inventario\n"
     ]
    }
   ],
   "source": [
    "store123.add_product('ciruela', 1.39, 60)"
   ]
  },
  {
   "cell_type": "code",
   "execution_count": 1807,
   "metadata": {},
   "outputs": [
    {
     "name": "stdout",
     "output_type": "stream",
     "text": [
      "Actualizamos la cantidad de \"Plátano\" a \"50\".\n"
     ]
    }
   ],
   "source": [
    "store123.add_product('plátano', 0.99, 10)"
   ]
  },
  {
   "cell_type": "code",
   "execution_count": 1808,
   "metadata": {},
   "outputs": [
    {
     "name": "stdout",
     "output_type": "stream",
     "text": [
      "Nombre: Plátano, Precio: $0.99, Cantidad: 50\n",
      "Nombre: Aguacate, Precio: $3.99, Cantidad: 20\n",
      "Nombre: Ciruela, Precio: $1.39, Cantidad: 60\n"
     ]
    }
   ],
   "source": [
    "store123.see_stock()"
   ]
  },
  {
   "cell_type": "code",
   "execution_count": 1809,
   "metadata": {},
   "outputs": [
    {
     "name": "stdout",
     "output_type": "stream",
     "text": [
      "El producto \"piña\" no está en el inventario\n"
     ]
    }
   ],
   "source": [
    "store123.search_product('piña')"
   ]
  },
  {
   "cell_type": "code",
   "execution_count": 1810,
   "metadata": {},
   "outputs": [
    {
     "name": "stdout",
     "output_type": "stream",
     "text": [
      "Nombre: Plátano, Precio: $0.99, Cantidad: 50\n"
     ]
    }
   ],
   "source": [
    "store123.search_product('plátano')"
   ]
  },
  {
   "cell_type": "code",
   "execution_count": 1811,
   "metadata": {},
   "outputs": [
    {
     "name": "stdout",
     "output_type": "stream",
     "text": [
      "El producto no está en el inventario\n"
     ]
    }
   ],
   "source": [
    "store123.update_stock('manzana', 40)"
   ]
  },
  {
   "cell_type": "code",
   "execution_count": 1812,
   "metadata": {},
   "outputs": [
    {
     "name": "stdout",
     "output_type": "stream",
     "text": [
      "Actualizamos la cantidad de \"Aguacate\" a \"55\".\n"
     ]
    }
   ],
   "source": [
    "store123.update_stock('aguacate', 55)"
   ]
  },
  {
   "cell_type": "code",
   "execution_count": 1813,
   "metadata": {},
   "outputs": [
    {
     "name": "stdout",
     "output_type": "stream",
     "text": [
      "Nombre: Plátano, Precio: $0.99, Cantidad: 50\n",
      "Nombre: Aguacate, Precio: $3.99, Cantidad: 55\n",
      "Nombre: Ciruela, Precio: $1.39, Cantidad: 60\n"
     ]
    }
   ],
   "source": [
    "store123.see_stock()"
   ]
  },
  {
   "cell_type": "code",
   "execution_count": 1814,
   "metadata": {},
   "outputs": [
    {
     "name": "stdout",
     "output_type": "stream",
     "text": [
      "Hemos eliminado \"Ciruela\" del stock.\n"
     ]
    }
   ],
   "source": [
    "store123.remove_product('ciruela')"
   ]
  },
  {
   "cell_type": "code",
   "execution_count": 1815,
   "metadata": {},
   "outputs": [
    {
     "name": "stdout",
     "output_type": "stream",
     "text": [
      "El producto no está en el inventario\n"
     ]
    }
   ],
   "source": [
    "store123.remove_product('manzana')"
   ]
  },
  {
   "cell_type": "code",
   "execution_count": 1816,
   "metadata": {},
   "outputs": [
    {
     "name": "stdout",
     "output_type": "stream",
     "text": [
      "Nombre: Plátano, Precio: $0.99, Cantidad: 50\n",
      "Nombre: Aguacate, Precio: $3.99, Cantidad: 55\n"
     ]
    }
   ],
   "source": [
    "store123.see_stock()"
   ]
  },
  {
   "cell_type": "code",
   "execution_count": 1817,
   "metadata": {},
   "outputs": [
    {
     "name": "stdout",
     "output_type": "stream",
     "text": [
      "Total stock: $268.95\n"
     ]
    }
   ],
   "source": [
    "store123.calculate_total_stock()"
   ]
  },
  {
   "cell_type": "markdown",
   "metadata": {},
   "source": [
    "## BONUS \n",
    "\n",
    "**Dedica tiempo a esta sección solo si has terminado la anterior, entiendes bien lo que has realizado y te sientes lo suficientemente segura para avanzar. Recuerda que el objetivo principal no es completarlo todo, sino disfrutar del proceso y consolidar tu aprendizaje.**\n",
    "\n",
    "Para realizar esta parte, debes añadir los siguientes atributos a la clase `TiendaOnline`:\n",
    "\n",
    "- `clientes` (diccionario): Un atributo para llevar un registro de los clientes de la tienda. Cada cliente debe ser representado como un diccionario con las siguientes claves: `'nombre'` y `'email'`. Al inicio deberá ser un diccionario vacío. Además, cada cliente debe tener un historial de compras. Deberá parecerse a:\n",
    "\n",
    "    ```python\n",
    "        {'Cliente1': {'email': 'cliente1@email.com', 'compras': []},\n",
    "        'Cliente2': {'email': 'cliente2@email.com', 'compras': []}}\n",
    "    ```\n",
    "\n",
    "Y posteriormente, debes añadir los siguientes métodos a la clase `TiendaOnline`:\n",
    "\n",
    "1. `agregar_cliente(self, nombre, email)`: Agrega un nuevo cliente al registro de clientes. Debe recibir el nombre y el correo electrónico del cliente como parámetros.\n",
    "    - Agrega un cliente al diccionario de clientes con su nombre y correo electrónico.\n",
    "\n",
    "1. `ver_clientes(self)`: Muestra la lista de clientes registrados con sus nombres y correos electrónicos.\n",
    "\n",
    "    - Utiliza un bucle `for` para recorrer la base de datos de clientes.\n",
    "    - Imprime los detalles de cada cliente (nombre y correo electrónico).\n",
    "\n",
    "1. `realizar_compra(self)`: Permite a un cliente realizar una compra seleccionando productos del inventario. Debe interactuar con el cliente para seleccionar productos y calcular el costo total de la compra.\n",
    "\n",
    "    - Utiliza un bucle `while` para permitir al cliente realizar múltiples compras.\n",
    "    - Muestra el inventario y solicita al cliente ingresar el nombre del producto que desea comprar.\n",
    "    - Registra los productos seleccionados en un carrito y actualiza el inventario.\n",
    "    - Calcula el costo total de la compra.\n",
    "\n",
    "1. `procesar_pago(self)`: Procesa el pago de una compra, calcula el cambio y muestra un mensaje de confirmación.\n",
    "\n",
    "    - Utiliza un bloque `try...except` para manejar excepciones.\n",
    "    - Solicita al cliente ingresar la cantidad total y la cantidad de pago usando un input.\n",
    "    - Calcula el cambio y muestra un mensaje de pago exitoso o un error en caso de monto insuficiente.\n",
    "\n",
    "2. `registrar_compra(self, nombre_cliente, carrito)`: Registra una compra para un cliente, actualiza las ventas totales y agrega la compra al historial del cliente. Debe recibir el nombre del cliente y el carrito de compras como parámetros.\n",
    "\n",
    "    - Busca al cliente en el diccionario de clientes.\n",
    "    - Si el cliente no esta en el diccionario de clientes, muestra que no se puede realizar la acción por que el cliente no está en el diccionario. \n",
    "    - Calcula el total de la compra y registra la compra, incluyendo los productos y el total.\n",
    "    - Ejemplo:\n",
    "\n",
    "    ```python\n",
    "    carrito_cliente1 = {\"Camisa\": {\"precio\": 20, \"cantidad\": 3}}\n",
    "    tienda.registrar_compra(\"Cliente1\", carrito_cliente1)\n",
    "    ```\n",
    "\n",
    "3. `ver_compras_cliente(self, nombre_cliente)`: Muestra el historial de compras de un cliente. Debe recibir el nombre del cliente como parámetro.\n",
    "\n",
    "    - Busca al cliente en el diccionario de clientes.\n",
    "\n",
    "    - Muestra las compras realizadas por el cliente, incluyendo detalles de productos y totales.\n",
    "\n",
    "4. `calcular_ventas_totales(self)`: Muestra las ventas totales de la tienda.\n",
    "\n",
    "    - Suma los totales de todas las compras realizadas y muestra el total de ventas totales en la tienda.\n"
   ]
  },
  {
   "cell_type": "code",
   "execution_count": 1818,
   "metadata": {},
   "outputs": [],
   "source": [
    "#rescato de nuevo la clase que hemos creado arriba para el ejercicio y continúo el BONUS añadiendo métodos.\n",
    "\n",
    "class OnlineShop:\n",
    "\n",
    "    def __init__(self): #no hay parámetros en el init porque son parámetros por defecto\n",
    "        self.stock = [] \n",
    "        self.total_sales = 0.0\n",
    "        self.customers = {}\n",
    "\n",
    "    \n",
    "    def add_product(self, name, price, quantity):\n",
    "        \n",
    "        \"\"\"Add a new product to the stock. If it already exists, sum the quantity.\n",
    "        Params: name, price, quantity of the product.\"\"\"\n",
    "\n",
    "        #PART 1: comprobamos si el producto está ya en el stock:\n",
    "        \n",
    "        for element in self.stock: \n",
    "            if element['name'] == name.title(): \n",
    "                element['quantity'] += quantity\n",
    "                print(f'Actualizamos la cantidad de \"{name.title()}\" a \"{element[\"quantity\"]}\".')\n",
    "                return \n",
    "\n",
    "        \"\"\" Using return to exit the function and avoid executing part 2 of the code. \n",
    "        Break is not working because even if it exits the loop, the Part 2 of the code \n",
    "        (the one that adds the product to the stock) would start executing.\"\"\"         \n",
    "\n",
    "        #PART 2: appendeamos a la lista el producto.\n",
    "                       \n",
    "        product = {'name': name.title(), 'price': price, 'quantity': quantity}\n",
    "        self.stock.append(product)\n",
    "        print(f'Se agregó \"{product[\"name\"]}\" al inventario')\n",
    "\n",
    "\n",
    "    def see_stock(self):\n",
    "\n",
    "        \"\"\"Displays the inventory of products with their details\"\"\"\n",
    "\n",
    "        for element in self.stock:\n",
    "            print(f\"Nombre: {(element['name'])}, Precio: ${(element['price'])}, Cantidad: {(element['quantity'])}\")\n",
    "    \n",
    "\n",
    "    def search_product(self, name):\n",
    "\n",
    "        \"\"\"Searches for a product in the stock by name and displays its details, if found. \n",
    "        Parameter: name of the product.\"\"\"\n",
    "\n",
    "        for element in self.stock:\n",
    "            if element['name'] == name.title():\n",
    "                print(f\"Nombre: {(element['name'])}, Precio: ${(element['price'])}, Cantidad: {(element['quantity'])}\")\n",
    "                \n",
    "                return #misma lógica de antes, uso return para salirme de la función\n",
    "\n",
    "        print(f'El producto \"{name}\" no está en el inventario') \n",
    "\n",
    "\n",
    "    def update_stock(self, name, quantity):\n",
    "\n",
    "        \"\"\"Updates the stock of a product (key quantity). \n",
    "        Parameters: (1) product name and (2) new quantity.\"\"\"\n",
    "\n",
    "        for element in self.stock:\n",
    "            if element['name'] == name.title():\n",
    "                element['quantity'] = quantity\n",
    "                print(f'Actualizamos la cantidad de \"{name.title()}\" a \"{element[\"quantity\"]}\".')\n",
    "\n",
    "                return #misma lógica de antes, uso return para salirme de la función\n",
    "        \n",
    "        print('El producto no está en el inventario')\n",
    "\n",
    "    def remove_product(self, name):\n",
    "\n",
    "        \"\"\"Removes a product from the stock by its name. Parameter: product name.\"\"\"\n",
    "\n",
    "        for num, element in enumerate(self.stock):\n",
    "            if element['name'] == name.title():\n",
    "                self.stock.pop(num)\n",
    "                print(f'Hemos eliminado \"{name.title()}\" del stock.')\n",
    "                return \n",
    "        \n",
    "        print('El producto no está en el inventario')\n",
    "\n",
    "    def calculate_total_stock(self):\n",
    "        \n",
    "        \"\"\"Calculates and displays the total value of the stock.\"\"\"\n",
    "        total_stock = 0\n",
    "\n",
    "        for element in self.stock:\n",
    "            if element['name'] in element.values():\n",
    "\n",
    "                float(element['price']) #convierto en float los elementos, porque self.total_stock es float\n",
    "                float(element['quantity'])\n",
    "                sub_stock = element['price'] * element['quantity']\n",
    "                \n",
    "                total_stock += sub_stock\n",
    "        \n",
    "        total_stock = round(total_stock, 2)\n",
    "        print(f'Total stock: ${total_stock}')\n",
    "    \n",
    "\n",
    "    def add_customer(self, name, email):\n",
    "\n",
    "        \"\"\"Add a new customer to the customer's record. Params: (1) customer name, (2) customer email address.\"\"\"\n",
    "\n",
    "        customer = {name.title(): {'email': email, 'purchases': []}}\n",
    "        self.customers[name.title()] = {'email': email, 'purchases': []}\n",
    "        print(f'Se añadió \"{name.title()}\" a la lista de clientes')\n",
    "\n",
    "        #ojo! si el cliente ya existe, te lo sobreescribe porque las claves del diccionario son únicas.\n",
    "        #para una mejora del código: Next steps.\n",
    "\n",
    "\n",
    "    def see_customers(self):\n",
    "\n",
    "        \"\"\"Displays the list of registered customers with their names and emails addresses.\"\"\"\n",
    "\n",
    "        for k,v in self.customers.items():\n",
    "            print(f'Nombre: {k}. Email: {self.customers[k][\"email\"]}.')\n",
    "    \n",
    "\n",
    "    def make_purchase(self):\n",
    "\n",
    "        \"\"\"Allows a customer to make a purchase by selecting products from stock. \n",
    "        You must interact with the customer to select products and calculate the total cost of the purchase.\"\"\"\n",
    "\n",
    "        #PARTE 1: le mostramos al cliente las posibilidades de compra que tiene:\n",
    "        \n",
    "        print('¿Qué producto desea comprar de entre los siguientes?:')\n",
    "        for element in self.stock:\n",
    "            print(f\"Producto: {(element['name'])} --> Precio: ${(element['price'])}, Cantidad disponible: {(element['quantity'])}\") \n",
    "        \n",
    "        print('-' * 30)  \n",
    "\n",
    "        \n",
    "        #PARTE 2: El cliente elabora el carrito de la compra y actualizamos el stock.\n",
    "\n",
    "        shopping_cart_price = []\n",
    "        shopping_cart_qty = []\n",
    "\n",
    "        while True: #BUCLE PRINCIPAL DE COMPRA\n",
    "\n",
    "            #2.1. INTERACCIÓN CON EL CLIENTE:\n",
    "\n",
    "            product = input('inserta \"EXIT\" para terminar la compra o el \"NOMBRE\" del producto que desees comprar ')\n",
    "            \n",
    "            if product.lower() == 'EXIT' or product.lower() == \"exit\": #si queremos terminar de comprar y cerrar el carrito.\n",
    "                print(\"🛒 Compra terminada.\")\n",
    "                break\n",
    "             \n",
    "            print(f'Producto seleccionado: {product}') #si es nuestra primera compra o seguimos queriendo comprar:\n",
    "\n",
    "            try:\n",
    "                qty = int(input('inserta la CANTIDAD que quieres comprar'))\n",
    "                print(f'Cantidad seleccionada: {qty}')\n",
    "\n",
    "            except ValueError: #si hay error de cantidad, se vuelve al incicio del bucle Wihle True, es decir, el continue salta a la siguiente iteración pero sigue en el bucle.\n",
    "                print('❌ Debes ingresar un número válido como cantidad')\n",
    "                continue \n",
    "\n",
    "\n",
    "            #2.2. VERIFICAMOS SI EL PRODUCTO ESTÁ EN STOCK:\n",
    "\n",
    "            product_in_stock = False\n",
    "                \n",
    "            for element in self.stock: \n",
    "                if element['name'] == product.title():\n",
    "                    product_in_stock = True #producto localizado en el stock\n",
    "\n",
    "                    if element['quantity'] >= qty:\n",
    "                        shopping_cart_price.append(element['price'])\n",
    "                        shopping_cart_qty.append(qty)\n",
    "                        element['quantity'] -= qty #actualizamos el stock\n",
    "                        print(f'✅ {qty} unidades de \"{product}\" añadidas al carrito.')\n",
    "\n",
    "                    else: #no se puede llevar a cabo la compra por falta de stock\n",
    "                        print('❌ No hay stock suficiente para ejecutar la compra')\n",
    "\n",
    "                    break #salimos del bucle for SOLO cuando el producto ha sido localizado\n",
    "            \n",
    "            if product_in_stock == False: #producto no localizado en el stock\n",
    "                print(f'❌El producto \"{product}\" no está en el inventario')                             \n",
    "\n",
    "            \n",
    "            #2.3. PREGUNTAMOS SI QUIEREN SEGUIR COMPRANDO:\n",
    "\n",
    "            while True:\n",
    "\n",
    "                answer = (input('¿quiere seguir comprando? responda Si / No')).strip().lower()\n",
    "                print(f'¿quiere seguir comprando? {answer}')\n",
    "                print('-' * 30)\n",
    "                \n",
    "                if answer in ['si', 's', 'sí', 'no', 'n']:\n",
    "                    break #sale de este while pero vuelve al BUCLE PRINCIPAL DE COMPRA DEL 2.2., que es donde te pregunto si quieres comprar o si quieres EXIT compra.\n",
    "                \n",
    "                else:\n",
    "                    print(f'❌ {answer} es una respuesta no válida, responda Si / No a la pregunta')\n",
    "                    \n",
    "\n",
    "        #PARTE 4: calculamos el coste total de la compra (total_cost_purchase)\n",
    "        \n",
    "        if len(shopping_cart_qty) > 0: #si el ciente ha comprado algo\n",
    "            total_cost_purchase = 0\n",
    "\n",
    "            for  p, q in zip(shopping_cart_price, shopping_cart_qty):\n",
    "                operation = p * q\n",
    "                total_cost_purchase += operation\n",
    "            \n",
    "            print(f'el coste total de la compra ha sido: \"{total_cost_purchase}\"')\n",
    "        \n",
    "        else: \n",
    "            return #el cliente que no compre nada, se sale de la función.\n",
    "\n",
    "\n",
    "    def process_payment(self):\n",
    "\n",
    "        \"\"\"(i) Processes the payment of a purchase,(ii) calculates the change and\n",
    "          (iii) displays a confirmation message.\"\"\"\n",
    "        \n",
    "        try:\n",
    "            total_cost_purchase = float(input('Ingrese el coste total de la compra'))\n",
    "            total_paid_cash = float(input('Ingrese el importe del pago'))\n",
    "            print(f'Coste total de la compra: \"${total_cost_purchase}\". El cliente paga: \"${total_paid_cash}\"')\n",
    "            \n",
    "            if total_cost_purchase > 0 and total_cost_purchase > 0: #sólo aceptamos nums mayores que cero (ni negativos, ni cero)\n",
    "\n",
    "                if total_paid_cash > total_cost_purchase:\n",
    "                    change = total_paid_cash - total_cost_purchase\n",
    "                    print(f'✅ pago exitoso. Recoja su cambio: \"${round(change,2)}\"')\n",
    "\n",
    "                elif total_paid_cash == total_cost_purchase:\n",
    "                    print('✅ pago exitoso. No hay cambio, ha pagado la cantidad exacta.')\n",
    "\n",
    "                else:\n",
    "                    print('❌ Error, importe insuficiente para procesar el pago.')\n",
    "            else:\n",
    "                print('Vaya 🤔! ha insertado una cantidad no válida')\n",
    "\n",
    "        except ValueError:\n",
    "            print('Vaya 🤔! Cantidad no válida')\n",
    "    \n",
    "    def record_purchase(self, customer_name, shopping_cart):\n",
    "\n",
    "        \"\"\"(i) Records a purchase for a customer, (ii) updates total_ sales and (iii) adds the \n",
    "        purchase to the customer's history. Params: (1) customer's name , (2) shopping cart.\n",
    "        \"\"\"\n",
    "    \n",
    "        #0.1 Creamos un bucle general de la función\n",
    "        #loop_record_purchase = True\n",
    "        #while loop_record_purchase == True:\n",
    "\n",
    "        #1. Comprobamos que el cliente está en el registro:\n",
    "        \n",
    "        for customer in self.customers:\n",
    "            if customer_name.title() in customer:\n",
    "                print(f'✅ {customer_name} identificado.')                    \n",
    "                break #nos salimos del bucle for del 1. pero volvemos al del 0.\n",
    "\n",
    "        else:\n",
    "            print('❌ No es posible realizar la acción porque el cliente no está en el registro')\n",
    "            return #salimos del método.\n",
    "        \n",
    "        #2. Calculamos el total de la compra:\n",
    "\n",
    "        total_purchase = 1\n",
    "\n",
    "        for v in shopping_cart.values(): #accedo al dicionario de items\n",
    "            for val in v.values(): #accedo a price y a qty.\n",
    "                total_purchase *= val\n",
    "            \n",
    "        print(f'Total compra: ${total_purchase}.')\n",
    "                    \n",
    "        #añadimos la compra (=el carrito) al historial de clientes (=diccionario de clientes).\n",
    "        self.customers[customer_name.title()]['purchases'].append(shopping_cart)\n",
    "                    \n",
    "    \n",
    "        #3. Actualizamos las ventas totales:\n",
    "\n",
    "        self.total_sales += total_purchase\n",
    "        self.total_sales = round(self.total_sales, 2)\n",
    "        print(f'Actualizamos el total ventas: ${self.total_sales}')    \n",
    "            \n",
    "            \n",
    "        return #salimos del bucle inicial\n",
    "\n",
    "\n",
    "\n",
    "                "
   ]
  },
  {
   "cell_type": "code",
   "execution_count": 1819,
   "metadata": {},
   "outputs": [],
   "source": [
    "fut_store = OnlineShop()"
   ]
  },
  {
   "cell_type": "code",
   "execution_count": 1820,
   "metadata": {},
   "outputs": [
    {
     "name": "stdout",
     "output_type": "stream",
     "text": [
      "Se agregó \"Camisetas\" al inventario\n",
      "Se agregó \"Pantalón\" al inventario\n",
      "Se agregó \"Balón\" al inventario\n",
      "Se agregó \"Espinilleras\" al inventario\n",
      "------------------------------\n",
      "Nombre: Camisetas, Precio: $29.99, Cantidad: 100\n",
      "Nombre: Pantalón, Precio: $19.99, Cantidad: 80\n",
      "Nombre: Balón, Precio: $10.99, Cantidad: 100\n",
      "Nombre: Espinilleras, Precio: $15.99, Cantidad: 50\n"
     ]
    }
   ],
   "source": [
    "fut_store.add_product('camisetas', 29.99, 100)\n",
    "fut_store.add_product('pantalón', 19.99, 80)\n",
    "fut_store.add_product('balón', 10.99, 100)\n",
    "fut_store.add_product('espinilleras', 15.99, 50)\n",
    "print('-'*30)\n",
    "fut_store.see_stock()"
   ]
  },
  {
   "cell_type": "code",
   "execution_count": 1821,
   "metadata": {},
   "outputs": [
    {
     "name": "stdout",
     "output_type": "stream",
     "text": [
      "Total stock: $6496.7\n"
     ]
    }
   ],
   "source": [
    "fut_store.calculate_total_stock()"
   ]
  },
  {
   "cell_type": "code",
   "execution_count": 1822,
   "metadata": {},
   "outputs": [
    {
     "name": "stdout",
     "output_type": "stream",
     "text": [
      "Se añadió \"Cliente1\" a la lista de clientes\n",
      "Se añadió \"Cliente2\" a la lista de clientes\n"
     ]
    }
   ],
   "source": [
    "fut_store.add_customer('cliente1', 'cliente1@email.com')\n",
    "fut_store.add_customer('cliente2', 'cliente2@email.com')"
   ]
  },
  {
   "cell_type": "code",
   "execution_count": 1823,
   "metadata": {},
   "outputs": [
    {
     "name": "stdout",
     "output_type": "stream",
     "text": [
      "Se añadió \"Cliente1\" a la lista de clientes\n"
     ]
    }
   ],
   "source": [
    "#vamos a hacer la prueba de añadir otra vez cliente1, con otro email:\n",
    "fut_store.add_customer('cliente1', 'cliente200@email.com')"
   ]
  },
  {
   "cell_type": "code",
   "execution_count": 1824,
   "metadata": {},
   "outputs": [
    {
     "name": "stdout",
     "output_type": "stream",
     "text": [
      "Nombre: Cliente1. Email: cliente200@email.com.\n",
      "Nombre: Cliente2. Email: cliente2@email.com.\n"
     ]
    }
   ],
   "source": [
    "fut_store.see_customers()"
   ]
  },
  {
   "cell_type": "markdown",
   "metadata": {},
   "source": [
    "`Nota Sandra`:  📌\n",
    "Vemos como el email del cliente1 : \"cliente1@email.com\", se ha sustituido por el nuevo email: \"cliente200@email.com\""
   ]
  },
  {
   "cell_type": "code",
   "execution_count": 1825,
   "metadata": {},
   "outputs": [],
   "source": [
    "# fut_store.make_purchase()"
   ]
  },
  {
   "cell_type": "code",
   "execution_count": 1826,
   "metadata": {},
   "outputs": [
    {
     "name": "stdout",
     "output_type": "stream",
     "text": [
      "Nombre: Camisetas, Precio: $29.99, Cantidad: 100\n",
      "Nombre: Pantalón, Precio: $19.99, Cantidad: 80\n",
      "Nombre: Balón, Precio: $10.99, Cantidad: 100\n",
      "Nombre: Espinilleras, Precio: $15.99, Cantidad: 50\n"
     ]
    }
   ],
   "source": [
    "#comprobamos que el stock ha bajado:\n",
    "fut_store.see_stock() "
   ]
  },
  {
   "cell_type": "code",
   "execution_count": 1827,
   "metadata": {},
   "outputs": [],
   "source": [
    "# fut_store.process_payment()"
   ]
  },
  {
   "cell_type": "code",
   "execution_count": 1828,
   "metadata": {},
   "outputs": [
    {
     "name": "stdout",
     "output_type": "stream",
     "text": [
      "Total stock: $6496.7\n"
     ]
    }
   ],
   "source": [
    "fut_store.calculate_total_stock()"
   ]
  },
  {
   "cell_type": "code",
   "execution_count": 1829,
   "metadata": {},
   "outputs": [
    {
     "name": "stdout",
     "output_type": "stream",
     "text": [
      "✅ cliente1 identificado.\n",
      "Total compra: $59.98.\n",
      "Actualizamos el total ventas: $59.98\n"
     ]
    }
   ],
   "source": [
    "fut_store.record_purchase('cliente1', {'camisetas': {'price': 29.99, \"quantity\": 2}})"
   ]
  },
  {
   "cell_type": "code",
   "execution_count": 1833,
   "metadata": {},
   "outputs": [
    {
     "data": {
      "text/plain": [
       "{'Cliente1': {'email': 'cliente200@email.com',\n",
       "  'purchases': [{'camisetas': {'price': 29.99, 'quantity': 2}}]},\n",
       " 'Cliente2': {'email': 'cliente2@email.com', 'purchases': []}}"
      ]
     },
     "execution_count": 1833,
     "metadata": {},
     "output_type": "execute_result"
    }
   ],
   "source": [
    "fut_store.customers\n"
   ]
  },
  {
   "cell_type": "code",
   "execution_count": 1831,
   "metadata": {},
   "outputs": [
    {
     "name": "stdout",
     "output_type": "stream",
     "text": [
      "Total stock: $6496.7\n"
     ]
    }
   ],
   "source": [
    "fut_store.calculate_total_stock()"
   ]
  },
  {
   "cell_type": "code",
   "execution_count": 1832,
   "metadata": {},
   "outputs": [
    {
     "name": "stdout",
     "output_type": "stream",
     "text": [
      "Nombre: Cliente1. Email: cliente200@email.com.\n",
      "Nombre: Cliente2. Email: cliente2@email.com.\n"
     ]
    }
   ],
   "source": [
    "fut_store.see_customers()"
   ]
  },
  {
   "cell_type": "markdown",
   "metadata": {},
   "source": [
    "\n",
    "## Normas\n",
    "\n",
    "Este ejercicio está pensado para que lo realices de forma individual en clase, pero podrás consultar tus dudas con la profesora y tus compañeras si lo consideras necesario. Ellas no te darán directamente la solución de tu duda, pero sí pistas para poder solucionarla. Aún facilitando la comunicación entre compañeras, durante la prueba no debes copiar código de otra persona ni acceder a su portátil. Confiamos en tu responsabilidad.\n",
    "\n",
    "La evaluación es una buena oportunidad para conocer cómo estás progresando, saber qué temas debes reforzar durante las siguientes semanas y cuáles dominas. Te recomendamos que te sientas cómoda con el ejercicio que entregues y no envíes cosas copiadas que no entiendas.\n",
    "\n",
    "Si detectamos que has entregado código que no es tuyo, no entiendes y no lo puedes defender, pasarás directamente a la re-evaluación del módulo. Tu objetivo no debería ser pasar la evaluación sino convertirte en analista de datos, y esto debes tenerlo claro en todo momento.\n",
    "\n",
    "Una vez entregado el ejercicio realizarás una revisión del mismo con la profesora (20 minutos), que se asemejará a una entrevista técnica: te pedirá que expliques las decisiones tomadas para realizarlo.\n",
    "\n",
    "Es una oportunidad para practicar la dinámica de una entrevista técnica donde te van a proponer cambios sobre tu código que no conoces a priori. Si evitas que otras compañeras te den pistas sobre la dinámica de feedback, podrás aprovecharlo como una práctica y pasar los nervios con la profesora en lugar de en tu primera entrevista de trabajo.\n",
    "\n",
    "Al final tendrás un feedback sobre aspectos a destacar y a mejorar en tu ejercicio, y sabrás qué objetivos de aprendizaje has supera\n",
    "\n",
    "## Criterios de evaluación\n",
    "\n",
    "Vamos a listar los criterios de evaluación de este ejercicio. Si no superas al menos el 80% de estos criterios o no has superado algún criterio clave (marcados con \\*) te pediremos que realices una re-evaluación con el fin de que termines el curso mejor preparada y enfrentes tu primera experiencia profesional con más seguridad. En caso contrario, estás aprendiendo al ritmo que hemos pautado para poder afrontar los conocimientos del siguiente módulo.\n",
    "\n",
    "### Python Básico\n",
    "- Condicionales (if, elif, else)*\n",
    "- Bucles (for y while). Importante entender cómo iterar por una lista, o un diccionario. *\n",
    "- Funciones (creación de funciones con parámetros, parámetros por defecto)*\n",
    "- Conceptos básicos de regex\n",
    "- Clases\n",
    "- Diferencias entre los distintos tipos de datos en python (strings, listas, tuplas, sets y diccionarios)\n",
    "\n",
    "### Otros criterios a tener en cuenta\n",
    "\n",
    "- Usar inglés para nombres de variables, funciones, clases, mensajes de commit, nombres de ficheros.\n",
    "- El repositorio de GitHub debe tener README explicando muy brevemente cómo arrancar el proyecto.\n",
    "\n",
    "¡Al turrón!"
   ]
  }
 ],
 "metadata": {
  "kernelspec": {
   "display_name": "Python 3",
   "language": "python",
   "name": "python3"
  },
  "language_info": {
   "codemirror_mode": {
    "name": "ipython",
    "version": 3
   },
   "file_extension": ".py",
   "mimetype": "text/x-python",
   "name": "python",
   "nbconvert_exporter": "python",
   "pygments_lexer": "ipython3",
   "version": "3.9.6"
  }
 },
 "nbformat": 4,
 "nbformat_minor": 2
}
