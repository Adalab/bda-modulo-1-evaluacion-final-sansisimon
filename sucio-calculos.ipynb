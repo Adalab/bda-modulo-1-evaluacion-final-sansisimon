{
 "cells": [
  {
   "cell_type": "code",
   "execution_count": 2,
   "metadata": {},
   "outputs": [
    {
     "name": "stdout",
     "output_type": "stream",
     "text": [
      "[{'name': None, 'price': None, 'quantity': None}]\n"
     ]
    }
   ],
   "source": [
    "keys_inventory = ['name','price','quantity']\n",
    "inventory = [dict.fromkeys(keys_inventory)]\n",
    "print(inventory)\n",
    "\n",
    "#esto no me vale"
   ]
  },
  {
   "cell_type": "code",
   "execution_count": null,
   "metadata": {},
   "outputs": [],
   "source": [
    "def agregar_producto(name, price, quantity):\n",
    "    product = [name[name], price[price], quantity[quantity]]\n",
    "    return product\n",
    "\n",
    "#tampoco vale, ver error abajo,"
   ]
  },
  {
   "cell_type": "code",
   "execution_count": 8,
   "metadata": {},
   "outputs": [
    {
     "ename": "TypeError",
     "evalue": "string indices must be integers",
     "output_type": "error",
     "traceback": [
      "\u001b[0;31m---------------------------------------------------------------------------\u001b[0m",
      "\u001b[0;31mTypeError\u001b[0m                                 Traceback (most recent call last)",
      "Cell \u001b[0;32mIn[8], line 1\u001b[0m\n\u001b[0;32m----> 1\u001b[0m \u001b[43magregar_producto\u001b[49m\u001b[43m(\u001b[49m\u001b[38;5;124;43m'\u001b[39;49m\u001b[38;5;124;43mCamisa\u001b[39;49m\u001b[38;5;124;43m'\u001b[39;49m\u001b[43m,\u001b[49m\u001b[43m \u001b[49m\u001b[38;5;241;43m20\u001b[39;49m\u001b[43m,\u001b[49m\u001b[43m \u001b[49m\u001b[38;5;241;43m40\u001b[39;49m\u001b[43m)\u001b[49m\n",
      "Cell \u001b[0;32mIn[7], line 2\u001b[0m, in \u001b[0;36magregar_producto\u001b[0;34m(name, price, quantity)\u001b[0m\n\u001b[1;32m      1\u001b[0m \u001b[38;5;28;01mdef\u001b[39;00m \u001b[38;5;21magregar_producto\u001b[39m(name, price, quantity):\n\u001b[0;32m----> 2\u001b[0m     product \u001b[38;5;241m=\u001b[39m [\u001b[43mname\u001b[49m\u001b[43m[\u001b[49m\u001b[43mname\u001b[49m\u001b[43m]\u001b[49m, price[price], quantity[quantity]]\n\u001b[1;32m      3\u001b[0m     \u001b[38;5;28;01mreturn\u001b[39;00m product\n",
      "\u001b[0;31mTypeError\u001b[0m: string indices must be integers"
     ]
    }
   ],
   "source": [
    "agregar_producto('Camisa', 20, 40)"
   ]
  },
  {
   "cell_type": "code",
   "execution_count": 13,
   "metadata": {},
   "outputs": [],
   "source": [
    "def agregar_producto(name, price, quantity):\n",
    "    dict1 = dict()\n",
    "    dict2 = dict()\n",
    "    dict3 = dict()\n",
    "    product = []\n",
    "\n",
    "    dict1 = name[name]\n",
    "    dict2 = price[price]\n",
    "    dict3 = quantity[quantity]\n",
    "\n",
    "    product = [dict1, dict2, dict3]\n",
    "    return product"
   ]
  },
  {
   "cell_type": "code",
   "execution_count": 14,
   "metadata": {},
   "outputs": [
    {
     "ename": "TypeError",
     "evalue": "string indices must be integers",
     "output_type": "error",
     "traceback": [
      "\u001b[0;31m---------------------------------------------------------------------------\u001b[0m",
      "\u001b[0;31mTypeError\u001b[0m                                 Traceback (most recent call last)",
      "Cell \u001b[0;32mIn[14], line 1\u001b[0m\n\u001b[0;32m----> 1\u001b[0m \u001b[43magregar_producto\u001b[49m\u001b[43m(\u001b[49m\u001b[38;5;124;43m'\u001b[39;49m\u001b[38;5;124;43mCamisa\u001b[39;49m\u001b[38;5;124;43m'\u001b[39;49m\u001b[43m,\u001b[49m\u001b[43m \u001b[49m\u001b[38;5;241;43m20\u001b[39;49m\u001b[43m,\u001b[49m\u001b[43m \u001b[49m\u001b[38;5;241;43m40\u001b[39;49m\u001b[43m)\u001b[49m\n",
      "Cell \u001b[0;32mIn[13], line 7\u001b[0m, in \u001b[0;36magregar_producto\u001b[0;34m(name, price, quantity)\u001b[0m\n\u001b[1;32m      4\u001b[0m dict3 \u001b[38;5;241m=\u001b[39m \u001b[38;5;28mdict\u001b[39m()\n\u001b[1;32m      5\u001b[0m product \u001b[38;5;241m=\u001b[39m []\n\u001b[0;32m----> 7\u001b[0m dict1 \u001b[38;5;241m=\u001b[39m \u001b[43mname\u001b[49m\u001b[43m[\u001b[49m\u001b[43mname\u001b[49m\u001b[43m]\u001b[49m\n\u001b[1;32m      8\u001b[0m dict2 \u001b[38;5;241m=\u001b[39m price[price]\n\u001b[1;32m      9\u001b[0m dict3 \u001b[38;5;241m=\u001b[39m quantity[quantity]\n",
      "\u001b[0;31mTypeError\u001b[0m: string indices must be integers"
     ]
    }
   ],
   "source": [
    "agregar_producto('Camisa', 20, 40)"
   ]
  },
  {
   "cell_type": "code",
   "execution_count": 18,
   "metadata": {},
   "outputs": [],
   "source": [
    "def add_product(name, price, quantity):\n",
    "    product = {'name': name, 'price': price, 'quantity': quantity}\n",
    "    return product"
   ]
  },
  {
   "cell_type": "code",
   "execution_count": 19,
   "metadata": {},
   "outputs": [
    {
     "data": {
      "text/plain": [
       "{'name': 'camisa', 'price': 20, 'quantity': 30}"
      ]
     },
     "execution_count": 19,
     "metadata": {},
     "output_type": "execute_result"
    }
   ],
   "source": [
    "add_product(\"camisa\", 20, 30)"
   ]
  },
  {
   "cell_type": "code",
   "execution_count": 88,
   "metadata": {},
   "outputs": [],
   "source": [
    "inventory = []"
   ]
  },
  {
   "cell_type": "code",
   "execution_count": null,
   "metadata": {},
   "outputs": [],
   "source": [
    "def add_product(name, price, quantity):\n",
    "\n",
    "    #PARTE 1: comprobamos si el producto está ya en el inventario:\n",
    "    \n",
    "    for element in inventory: \n",
    "        if element['name'] == name: \n",
    "            element['quantity'] += quantity\n",
    "            print(f'Actualizamos la cantidad de \"{name}\" a \"{element[\"quantity\"]}\".')\n",
    "            return \n",
    "\n",
    "    \"\"\" uso return para salirnos de la completamente y que no se ejecute \n",
    "    esta segunda parte del código. Con break no me vale porque aunque se \n",
    "    salga del bucle, comenzaría a ejecutarse la siguiente parte del código, \n",
    "    que es la que añade el producto al inventario.\"\"\"         \n",
    "\n",
    "    #PARTE 2: apendeamos a la lista el producto.\n",
    "                              \n",
    "    product = {'name': name, 'price': price, 'quantity': quantity}\n",
    "    inventory.append(product)\n",
    "    print(f'Se agregó \"{product[\"name\"]}\" al inventario')\n",
    "    print(f'El inventario quedaría: \\n {inventory}')\n",
    "    \n"
   ]
  },
  {
   "cell_type": "code",
   "execution_count": 90,
   "metadata": {},
   "outputs": [
    {
     "name": "stdout",
     "output_type": "stream",
     "text": [
      "Se agregó \"camisa\" al inventario\n",
      "El inventario quedaría: \n",
      " [{'name': 'camisa', 'price': 20, 'quantity': 40}]\n"
     ]
    }
   ],
   "source": [
    "add_product('camisa', 20, 40)"
   ]
  },
  {
   "cell_type": "code",
   "execution_count": 91,
   "metadata": {},
   "outputs": [
    {
     "name": "stdout",
     "output_type": "stream",
     "text": [
      "Se agregó \"pantalón\" al inventario\n",
      "El inventario quedaría: \n",
      " [{'name': 'camisa', 'price': 20, 'quantity': 40}, {'name': 'pantalón', 'price': 30, 'quantity': 30}]\n"
     ]
    }
   ],
   "source": [
    "add_product('pantalón', 30, 30)"
   ]
  },
  {
   "cell_type": "code",
   "execution_count": 92,
   "metadata": {},
   "outputs": [
    {
     "name": "stdout",
     "output_type": "stream",
     "text": [
      "actualizamos la cantidad de \"pantalón\" a \"35\" pantalón.\n"
     ]
    }
   ],
   "source": [
    "add_product('pantalón', 30, 5)"
   ]
  },
  {
   "cell_type": "code",
   "execution_count": 52,
   "metadata": {},
   "outputs": [
    {
     "name": "stdout",
     "output_type": "stream",
     "text": [
      "[]\n"
     ]
    }
   ],
   "source": [
    "print(inventory)"
   ]
  },
  {
   "cell_type": "code",
   "execution_count": 114,
   "metadata": {},
   "outputs": [
    {
     "data": {
      "text/plain": [
       "2"
      ]
     },
     "execution_count": 114,
     "metadata": {},
     "output_type": "execute_result"
    }
   ],
   "source": [
    "stock = [{'name': 'Camisa', 'price': 20, 'quantity': 55},\n",
    "  {'name': 'Pantalón', 'price': 30, 'quantity': 35}]\n",
    "len(stock)"
   ]
  },
  {
   "cell_type": "code",
   "execution_count": 100,
   "metadata": {},
   "outputs": [
    {
     "data": {
      "text/plain": [
       "list"
      ]
     },
     "execution_count": 100,
     "metadata": {},
     "output_type": "execute_result"
    }
   ],
   "source": [
    "type(stock)"
   ]
  },
  {
   "cell_type": "code",
   "execution_count": 101,
   "metadata": {},
   "outputs": [
    {
     "data": {
      "text/plain": [
       "{'name': 'Camisa', 'price': 20, 'quantity': 55}"
      ]
     },
     "execution_count": 101,
     "metadata": {},
     "output_type": "execute_result"
    }
   ],
   "source": [
    "stock.pop(0)"
   ]
  },
  {
   "cell_type": "code",
   "execution_count": 112,
   "metadata": {},
   "outputs": [
    {
     "data": {
      "text/plain": [
       "[{'name': 'Pantalón', 'price': 30, 'quantity': 35}]"
      ]
     },
     "execution_count": 112,
     "metadata": {},
     "output_type": "execute_result"
    }
   ],
   "source": [
    "stock"
   ]
  },
  {
   "cell_type": "code",
   "execution_count": 113,
   "metadata": {},
   "outputs": [],
   "source": [
    "def remove_product(name):\n",
    "\n",
    "    for element in stock:\n",
    "        print('-'*40)\n",
    "        print(element)\n",
    "        for num in range(0, len(stock)):\n",
    "            print(num)\n",
    "            if element['name'] == name.title():\n",
    "                print(f'se ha eliminado el elemento:{name}')\n",
    "                stock.pop(num)\n",
    "                return\n",
    "            elif element['name'] != name.title():\n",
    "                continue\n",
    "                \n"
   ]
  },
  {
   "cell_type": "code",
   "execution_count": 115,
   "metadata": {},
   "outputs": [
    {
     "name": "stdout",
     "output_type": "stream",
     "text": [
      "----------------------------------------\n",
      "{'name': 'Camisa', 'price': 20, 'quantity': 55}\n",
      "0\n",
      "se ha eliminado el elemento:camisa\n"
     ]
    }
   ],
   "source": [
    "remove_product(\"camisa\")"
   ]
  },
  {
   "cell_type": "code",
   "execution_count": 116,
   "metadata": {},
   "outputs": [
    {
     "data": {
      "text/plain": [
       "[{'name': 'Pantalón', 'price': 30, 'quantity': 35}]"
      ]
     },
     "execution_count": 116,
     "metadata": {},
     "output_type": "execute_result"
    }
   ],
   "source": [
    "stock"
   ]
  },
  {
   "cell_type": "code",
   "execution_count": null,
   "metadata": {},
   "outputs": [],
   "source": []
  }
 ],
 "metadata": {
  "kernelspec": {
   "display_name": "Python 3",
   "language": "python",
   "name": "python3"
  },
  "language_info": {
   "codemirror_mode": {
    "name": "ipython",
    "version": 3
   },
   "file_extension": ".py",
   "mimetype": "text/x-python",
   "name": "python",
   "nbconvert_exporter": "python",
   "pygments_lexer": "ipython3",
   "version": "3.9.6"
  }
 },
 "nbformat": 4,
 "nbformat_minor": 2
}
